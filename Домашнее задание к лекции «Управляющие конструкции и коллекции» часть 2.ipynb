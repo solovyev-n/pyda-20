{
 "cells": [
  {
   "cell_type": "code",
   "execution_count": null,
   "metadata": {},
   "outputs": [],
   "source": [
    "Задание 1\n",
    "Дана переменная, в которой хранится словарь, содержащий гео-метки для каждого пользователя (пример структуры данных приведен ниже). Вам необходимо написать программу, которая выведет на экран множество уникальных гео-меток всех пользователей.\n",
    "\n",
    "Пример работы программы:\n",
    "\n",
    "ids = {‘user1’: [213, 213, 213, 15, 213],\n",
    "‘user2’: [54, 54, 119, 119, 119],\n",
    "‘user3’: [213, 98, 98, 35]}\n",
    "Результат: {98, 35, 15, 213, 54, 119}"
   ]
  },
  {
   "cell_type": "code",
   "execution_count": 20,
   "metadata": {},
   "outputs": [
    {
     "name": "stdout",
     "output_type": "stream",
     "text": [
      "{98, 35, 15, 213, 54, 119}\n"
     ]
    }
   ],
   "source": [
    "ids = {'user1': [213, 213, 213, 15, 213],\n",
    "       'user2': [54, 54, 119, 119, 119],\n",
    "       'user3': [213, 98, 98, 35]}\n",
    "lst = ids.values()\n",
    "newlist = []\n",
    "for i in lst:\n",
    "    for j in i:\n",
    "        newlist.append(j)\n",
    "\n",
    "print(set(newlist))\n"
   ]
  },
  {
   "cell_type": "code",
   "execution_count": null,
   "metadata": {},
   "outputs": [],
   "source": [
    "Задание 2\n",
    "Дана переменная, в которой хранится список поисковых запросов пользователя (пример структуры данных приведен ниже). Вам необходимо написать программу, которая выведет на экран распределение количества слов в запросах в требуемом виде.\n",
    "\n",
    "Пример работы программы:\n",
    "\n",
    "queries = [\n",
    "‘смотреть сериалы онлайн’,\n",
    "‘новости спорта’,\n",
    "‘афиша кино’,\n",
    "‘курс доллара’,\n",
    "‘сериалы этим летом’,\n",
    "‘курс по питону’,\n",
    "‘сериалы про спорт’,\n",
    "]\n",
    "Результат:\n",
    "\n",
    "Поисковых запросов, содержащих 2 слов(а): 42.86%\n",
    "Поисковых запросов, содержащих 3 слов(а): 57.14%"
   ]
  },
  {
   "cell_type": "code",
   "execution_count": 19,
   "metadata": {},
   "outputs": [
    {
     "name": "stdout",
     "output_type": "stream",
     "text": [
      "Поисковых запросов, содержащих 3 слов(а): 57.14 %\n",
      "Поисковых запросов, содержащих 2 слов(а): 42.86 %\n"
     ]
    }
   ],
   "source": [
    "queries = [\n",
    "    'смотреть сериалы онлайн',\n",
    "    'новости спорта',\n",
    "    'афиша кино',\n",
    "    'курс доллара',\n",
    "    'сериалы этим летом',\n",
    "    'курс по питону',\n",
    "    'сериалы про спорт'\n",
    "]\n",
    "\n",
    "storage = {}\n",
    "\n",
    "for query in queries:\n",
    "    words = query.split()\n",
    "\n",
    "    if len(words) in storage.keys():\n",
    "        storage[len(words)] += 1\n",
    "    else:\n",
    "        storage.update({\n",
    "            len(words): 1\n",
    "        })\n",
    "\n",
    "for key,value in storage.items():\n",
    "    percentage = round((value / len(queries)) * 100, 2)\n",
    "    print(f'Поисковых запросов, содержащих {key} слов(а):', percentage, '%')"
   ]
  },
  {
   "cell_type": "code",
   "execution_count": null,
   "metadata": {},
   "outputs": [],
   "source": [
    "Задание 3\n",
    "Дана переменная, в которой хранится информация о затратах и доходе рекламных кампаний по различным источникам. Необходимо дополнить исходную структуру показателем ROI, который рассчитаем по формуле: (revenue / cost - 1) * 100\n",
    "\n",
    "Пример работы программы:\n",
    "\n",
    "results = {\n",
    "‘vk’: {‘revenue’: 103, ‘cost’: 98},\n",
    "‘yandex’: {‘revenue’: 179, ‘cost’: 153},\n",
    "‘facebook’: {‘revenue’: 103, ‘cost’: 110},\n",
    "‘adwords’: {‘revenue’: 35, ‘cost’: 34},\n",
    "‘twitter’: {‘revenue’: 11, ‘cost’: 24},\n",
    "}\n",
    "Результат:\n",
    "\n",
    "{‘adwords’: {‘ROI’: 2.94, ‘cost’: 34, ‘revenue’: 35},\n",
    "‘facebook’: {‘ROI’: -6.36, ‘cost’: 110, ‘revenue’: 103},\n",
    "‘twitter’: {‘ROI’: -54.17, ‘cost’: 24, ‘revenue’: 11},\n",
    "‘vk’: {‘ROI’: 5.1, ‘cost’: 98, ‘revenue’: 103},\n",
    "‘yandex’: {‘ROI’: 16.99, ‘cost’: 153, ‘revenue’: 179}"
   ]
  },
  {
   "cell_type": "code",
   "execution_count": 23,
   "metadata": {},
   "outputs": [
    {
     "name": "stdout",
     "output_type": "stream",
     "text": [
      "{'vk': {'revenue': 103, 'cost': 98, 'ROI': 5.102040816326525}, 'yandex': {'revenue': 179, 'cost': 153, 'ROI': 16.99346405228759}, 'facebook': {'revenue': 103, 'cost': 110, 'ROI': -6.36363636363636}, 'adwords': {'revenue': 35, 'cost': 34, 'ROI': 2.941176470588225}, 'twitter': {'revenue': 11, 'cost': 24, 'ROI': -54.16666666666667}}\n"
     ]
    }
   ],
   "source": [
    "results = {\n",
    "    'vk': {'revenue': 103, 'cost': 98},\n",
    "    'yandex': {'revenue': 179, 'cost': 153},\n",
    "    'facebook': {'revenue': 103, 'cost': 110},\n",
    "    'adwords': {'revenue': 35, 'cost': 34},\n",
    "    'twitter': {'revenue': 11, 'cost': 24},\n",
    "}\n",
    "\n",
    "for value in results.values():\n",
    "    value['ROI'] = (value['revenue'] / value['cost'] - 1) * 100\n",
    "\n",
    "\n",
    "print(results)"
   ]
  },
  {
   "cell_type": "code",
   "execution_count": null,
   "metadata": {},
   "outputs": [],
   "source": [
    "Задание 4\n",
    "Дана переменная, в которой хранится статистика рекламных каналов по объемам продаж (пример структуры данных приведен ниже). Напишите программу, которая возвращает название канала с максимальным объемом продаж.\n",
    "\n",
    "Пример работы программы:\n",
    "\n",
    "stats = {‘facebook’: 55, ‘yandex’: 115, ‘vk’: 120, ‘google’: 99, ‘email’: 42, ‘ok’: 98}\n",
    "\n",
    "Результат: Максимальный объем продаж на рекламном канале: vk"
   ]
  },
  {
   "cell_type": "code",
   "execution_count": 38,
   "metadata": {},
   "outputs": [
    {
     "name": "stdout",
     "output_type": "stream",
     "text": [
      "Максимальный объем продаж на рекламном канале: vk\n"
     ]
    }
   ],
   "source": [
    "stats = {'facebook': 55, 'yandex': 115, 'vk': 120, 'google': 99, 'email': 42, 'ok': 98}\n",
    "max_val = max(stats.items(), key=lambda x: x[1]) \n",
    "print('Максимальный объем продаж на рекламном канале:', max_val[0])  "
   ]
  },
  {
   "cell_type": "code",
   "execution_count": null,
   "metadata": {},
   "outputs": [],
   "source": [
    "Задание 5 (необязательно)\n",
    "Дан список произвольной длины. Необходимо написать код, который на основе исходного списка составит словарь такого уровня вложенности, какова длина исхондого списка.\n",
    "\n",
    "Примеры работы программы:\n",
    "\n",
    "my_list = [‘2018-01-01’, ‘yandex’, ‘cpc’, 100]\n",
    "Результат: {‘2018-01-01’: {‘yandex’: {‘cpc’: 100}}}\n",
    "\n",
    "my_list = [‘a’, ‘b’, ‘c’, ‘d’, ‘e’, ‘f’]\n",
    "Результат: {‘a’: {‘b’: {‘c’: {‘d’: {‘e’: ‘f’}}}}}"
   ]
  },
  {
   "cell_type": "code",
   "execution_count": null,
   "metadata": {},
   "outputs": [],
   "source": []
  },
  {
   "cell_type": "code",
   "execution_count": null,
   "metadata": {},
   "outputs": [],
   "source": [
    "Задание 6 (необязательно)\n",
    "Дана книга рецептов с информацией о том, сколько ингредиентов нужно для приготовления блюда в расчете на одну порцию (пример данных представлен ниже).\n",
    "Напишите программу, которая будет запрашивать у пользователя количество порций для приготовления этих блюд и отображать информацию о суммарном количестве требуемых ингредиентов в указанном виде.\n",
    "\n",
    "Пример работы программы:\n",
    "\n",
    "cook_book = {\n",
    "‘салат’: [\n",
    "{‘ingridient_name’: ‘сыр’, ‘quantity’: 50, ‘measure’: ‘гр’},\n",
    "{‘ingridient_name’: ‘томаты’, ‘quantity’: 2, ‘measure’: ‘шт’},\n",
    "{‘ingridient_name’: ‘огурцы’, ‘quantity’: 20, ‘measure’: ‘гр’},\n",
    "{‘ingridient_name’: ‘маслины’, ‘quantity’: 10, ‘measure’: ‘гр’},\n",
    "{‘ingridient_name’: ‘оливковое масло’, ‘quantity’: 20, ‘measure’: ‘мл’},\n",
    "{‘ingridient_name’: ‘салат’, ‘quantity’: 10, ‘measure’: ‘гр’},\n",
    "{‘ingridient_name’: ‘перец’, ‘quantity’: 20, ‘measure’: ‘гр’}\n",
    "],\n",
    "‘пицца’: [\n",
    "{‘ingridient_name’: ‘сыр’, ‘quantity’: 20, ‘measure’: ‘гр’},\n",
    "{‘ingridient_name’: ‘колбаса’, ‘quantity’: 30, ‘measure’: ‘гр’},\n",
    "{‘ingridient_name’: ‘бекон’, ‘quantity’: 30, ‘measure’: ‘гр’},\n",
    "{‘ingridient_name’: ‘оливки’, ‘quantity’: 10, ‘measure’: ‘гр’},\n",
    "{‘ingridient_name’: ‘томаты’, ‘quantity’: 20, ‘measure’: ‘гр’},\n",
    "{‘ingridient_name’: ‘тесто’, ‘quantity’: 100, ‘measure’: ‘гр’},\n",
    "],\n",
    "‘лимонад’: [\n",
    "{‘ingridient_name’: ‘лимон’, ‘quantity’: 1, ‘measure’: ‘шт’},\n",
    "{‘ingridient_name’: ‘вода’, ‘quantity’: 200, ‘measure’: ‘мл’},\n",
    "{‘ingridient_name’: ‘сахар’, ‘quantity’: 10, ‘measure’: ‘гр’},\n",
    "{‘ingridient_name’: ‘лайм’, ‘quantity’: 20, ‘measure’: ‘гр’},\n",
    "]\n",
    "}\n",
    "\n",
    "Введите количество порций:\n",
    "3\n",
    "Результат:\n",
    "\n",
    "Сыр: 210 гр\n",
    "Томаты: 6 шт\n",
    "Огурцы: 60 гр\n",
    "Маслины: 30 гр\n",
    "Оливковое Масло: 60 мл\n",
    "Салат: 30 гр\n",
    "Перец: 60 гр\n",
    "Колбаса: 90 гр\n",
    "Бекон: 90 гр\n",
    "Оливки: 30 гр\n",
    "Томаты: 60 гр\n",
    "Тесто: 300 гр\n",
    "Лимон: 3 шт\n",
    "Вода: 600 мл\n",
    "Сахар: 30 гр\n",
    "Лайм: 60 гр"
   ]
  },
  {
   "cell_type": "code",
   "execution_count": null,
   "metadata": {},
   "outputs": [],
   "source": []
  }
 ],
 "metadata": {
  "kernelspec": {
   "display_name": "Python 3",
   "language": "python",
   "name": "python3"
  },
  "language_info": {
   "codemirror_mode": {
    "name": "ipython",
    "version": 3
   },
   "file_extension": ".py",
   "mimetype": "text/x-python",
   "name": "python",
   "nbconvert_exporter": "python",
   "pygments_lexer": "ipython3",
   "version": "3.8.5"
  }
 },
 "nbformat": 4,
 "nbformat_minor": 4
}
