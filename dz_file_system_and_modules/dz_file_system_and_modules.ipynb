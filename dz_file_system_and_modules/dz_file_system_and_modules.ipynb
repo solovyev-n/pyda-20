{
 "metadata": {
  "language_info": {
   "codemirror_mode": {
    "name": "ipython",
    "version": 3
   },
   "file_extension": ".py",
   "mimetype": "text/x-python",
   "name": "python",
   "nbconvert_exporter": "python",
   "pygments_lexer": "ipython3",
   "version": "3.8.5"
  },
  "orig_nbformat": 2,
  "kernelspec": {
   "name": "python385jvsc74a57bd030fb423e4e9516bfa646f16b43d24da19b734c1f212354302fc48520498bda4c",
   "display_name": "Python 3.8.5 64-bit ('base': conda)"
  },
  "metadata": {
   "interpreter": {
    "hash": "30fb423e4e9516bfa646f16b43d24da19b734c1f212354302fc48520498bda4c"
   }
  }
 },
 "nbformat": 4,
 "nbformat_minor": 2,
 "cells": [
  {
   "cell_type": "code",
   "execution_count": 1,
   "metadata": {},
   "outputs": [],
   "source": [
    "import json"
   ]
  },
  {
   "cell_type": "code",
   "execution_count": 4,
   "metadata": {},
   "outputs": [],
   "source": [
    "new_dict={}\n",
    "with open('purchase_log.txt', encoding='utf-8') as f :\n",
    "    for line in f:\n",
    "        line = line.strip()\n",
    "        dict_ = json.loads(line)\n",
    "        #print(dict_)\n",
    "        key=dict_['user_id']\n",
    "        value=dict_['category']\n",
    "        if key!='user_id':\n",
    "            new_dict.setdefault(key,value)"
   ]
  },
  {
   "cell_type": "code",
   "execution_count": 5,
   "metadata": {},
   "outputs": [],
   "source": [
    "with open('visit_log.csv', 'r') as f, open('funnel.csv', 'w') as w_f:\n",
    "    for row in f:\n",
    "        line_list=row.strip().split(',')\n",
    "        if line_list[0] in new_dict.keys():\n",
    "            line_list.append(new_dict[line_list[0]])\n",
    "            add_line=','.join(line_list)\n",
    "        elif line_list[0]=='user_id':\n",
    "            line_list.append('category')\n",
    "            add_line=','.join(line_list)\n",
    "        else:\n",
    "            add_line=','.join(line_list)\n",
    "        w_f.write(add_line+'\\n')"
   ]
  },
  {
   "cell_type": "code",
   "execution_count": null,
   "metadata": {},
   "outputs": [],
   "source": []
  }
 ]
}